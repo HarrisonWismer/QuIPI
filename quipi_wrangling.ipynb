{
 "cells": [
  {
   "cell_type": "code",
   "execution_count": 83,
   "id": "1a98789e-8c46-45c1-aab0-9858ce278774",
   "metadata": {},
   "outputs": [],
   "source": [
    "import numpy as np\n",
    "import pandas as pd\n",
    "import matplotlib\n",
    "import anndata as ad\n",
    "import pickle\n",
    "import sys\n",
    "\n",
    "import plotly.io as pio\n",
    "pio.renderers.default = 'iframe'\n",
    "import plotly.express as px\n",
    "pd.options.plotting.backend = 'plotly'"
   ]
  },
  {
   "cell_type": "code",
   "execution_count": 5,
   "id": "ffde2645-4916-40d1-a766-b959fda1b41f",
   "metadata": {},
   "outputs": [
    {
     "data": {
      "text/html": [
       "<div>\n",
       "<style scoped>\n",
       "    .dataframe tbody tr th:only-of-type {\n",
       "        vertical-align: middle;\n",
       "    }\n",
       "\n",
       "    .dataframe tbody tr th {\n",
       "        vertical-align: top;\n",
       "    }\n",
       "\n",
       "    .dataframe thead th {\n",
       "        text-align: right;\n",
       "    }\n",
       "</style>\n",
       "<table border=\"1\" class=\"dataframe\">\n",
       "  <thead>\n",
       "    <tr style=\"text-align: right;\">\n",
       "      <th></th>\n",
       "      <th>Patient</th>\n",
       "      <th>sample_name</th>\n",
       "      <th>Indication</th>\n",
       "      <th>Compartment</th>\n",
       "      <th>Archetype</th>\n",
       "      <th>ZBTB5</th>\n",
       "      <th>NPM1P26</th>\n",
       "      <th>NCOR1P3</th>\n",
       "      <th>PRKG2.AS1</th>\n",
       "      <th>MRPS33</th>\n",
       "      <th>...</th>\n",
       "      <th>X.4955</th>\n",
       "      <th>ENSG00000196661</th>\n",
       "      <th>X.13676</th>\n",
       "      <th>SERPINA15P</th>\n",
       "      <th>CDC42SE1</th>\n",
       "      <th>C8orf34</th>\n",
       "      <th>CHAD</th>\n",
       "      <th>ZFPM1.AS1</th>\n",
       "      <th>X_umap1</th>\n",
       "      <th>X_umap2</th>\n",
       "    </tr>\n",
       "  </thead>\n",
       "  <tbody>\n",
       "    <tr>\n",
       "      <th>0</th>\n",
       "      <td>IPIADR001</td>\n",
       "      <td>IPIADR001.T1</td>\n",
       "      <td>ADR</td>\n",
       "      <td>Myeloid</td>\n",
       "      <td>NaN</td>\n",
       "      <td>3.44</td>\n",
       "      <td>17.15</td>\n",
       "      <td>0.0</td>\n",
       "      <td>0.0</td>\n",
       "      <td>22.53</td>\n",
       "      <td>...</td>\n",
       "      <td>0.0</td>\n",
       "      <td>0.00</td>\n",
       "      <td>0.82</td>\n",
       "      <td>0.0</td>\n",
       "      <td>97.07</td>\n",
       "      <td>0.00</td>\n",
       "      <td>0.25</td>\n",
       "      <td>0.0</td>\n",
       "      <td>NaN</td>\n",
       "      <td>NaN</td>\n",
       "    </tr>\n",
       "    <tr>\n",
       "      <th>1</th>\n",
       "      <td>IPIADR001</td>\n",
       "      <td>IPIADR001.T1</td>\n",
       "      <td>ADR</td>\n",
       "      <td>Stroma</td>\n",
       "      <td>NaN</td>\n",
       "      <td>7.32</td>\n",
       "      <td>23.63</td>\n",
       "      <td>0.0</td>\n",
       "      <td>0.0</td>\n",
       "      <td>21.62</td>\n",
       "      <td>...</td>\n",
       "      <td>0.0</td>\n",
       "      <td>0.00</td>\n",
       "      <td>2.77</td>\n",
       "      <td>0.0</td>\n",
       "      <td>43.40</td>\n",
       "      <td>0.00</td>\n",
       "      <td>0.70</td>\n",
       "      <td>0.0</td>\n",
       "      <td>NaN</td>\n",
       "      <td>NaN</td>\n",
       "    </tr>\n",
       "    <tr>\n",
       "      <th>2</th>\n",
       "      <td>IPIADR001</td>\n",
       "      <td>IPIADR001.T1</td>\n",
       "      <td>ADR</td>\n",
       "      <td>T_cell</td>\n",
       "      <td>NaN</td>\n",
       "      <td>7.29</td>\n",
       "      <td>28.37</td>\n",
       "      <td>0.0</td>\n",
       "      <td>0.0</td>\n",
       "      <td>23.55</td>\n",
       "      <td>...</td>\n",
       "      <td>0.0</td>\n",
       "      <td>0.00</td>\n",
       "      <td>0.73</td>\n",
       "      <td>0.0</td>\n",
       "      <td>139.04</td>\n",
       "      <td>0.00</td>\n",
       "      <td>0.25</td>\n",
       "      <td>0.0</td>\n",
       "      <td>NaN</td>\n",
       "      <td>NaN</td>\n",
       "    </tr>\n",
       "    <tr>\n",
       "      <th>3</th>\n",
       "      <td>IPIADR001</td>\n",
       "      <td>IPIADR001.T1</td>\n",
       "      <td>ADR</td>\n",
       "      <td>Tumor</td>\n",
       "      <td>NaN</td>\n",
       "      <td>33.77</td>\n",
       "      <td>8.88</td>\n",
       "      <td>0.0</td>\n",
       "      <td>0.0</td>\n",
       "      <td>47.27</td>\n",
       "      <td>...</td>\n",
       "      <td>0.0</td>\n",
       "      <td>0.00</td>\n",
       "      <td>0.03</td>\n",
       "      <td>0.0</td>\n",
       "      <td>28.49</td>\n",
       "      <td>0.06</td>\n",
       "      <td>0.34</td>\n",
       "      <td>0.0</td>\n",
       "      <td>NaN</td>\n",
       "      <td>NaN</td>\n",
       "    </tr>\n",
       "    <tr>\n",
       "      <th>4</th>\n",
       "      <td>IPIADR002</td>\n",
       "      <td>IPIADR002.T1</td>\n",
       "      <td>ADR</td>\n",
       "      <td>Stroma</td>\n",
       "      <td>NaN</td>\n",
       "      <td>2.37</td>\n",
       "      <td>1.64</td>\n",
       "      <td>0.0</td>\n",
       "      <td>0.0</td>\n",
       "      <td>5.26</td>\n",
       "      <td>...</td>\n",
       "      <td>0.0</td>\n",
       "      <td>0.00</td>\n",
       "      <td>3.24</td>\n",
       "      <td>0.0</td>\n",
       "      <td>39.67</td>\n",
       "      <td>0.00</td>\n",
       "      <td>0.00</td>\n",
       "      <td>0.0</td>\n",
       "      <td>NaN</td>\n",
       "      <td>NaN</td>\n",
       "    </tr>\n",
       "    <tr>\n",
       "      <th>...</th>\n",
       "      <td>...</td>\n",
       "      <td>...</td>\n",
       "      <td>...</td>\n",
       "      <td>...</td>\n",
       "      <td>...</td>\n",
       "      <td>...</td>\n",
       "      <td>...</td>\n",
       "      <td>...</td>\n",
       "      <td>...</td>\n",
       "      <td>...</td>\n",
       "      <td>...</td>\n",
       "      <td>...</td>\n",
       "      <td>...</td>\n",
       "      <td>...</td>\n",
       "      <td>...</td>\n",
       "      <td>...</td>\n",
       "      <td>...</td>\n",
       "      <td>...</td>\n",
       "      <td>...</td>\n",
       "      <td>...</td>\n",
       "      <td>...</td>\n",
       "    </tr>\n",
       "    <tr>\n",
       "      <th>1515</th>\n",
       "      <td>IPISRC040</td>\n",
       "      <td>IPISRC040.T1</td>\n",
       "      <td>SRC</td>\n",
       "      <td>Treg</td>\n",
       "      <td>NaN</td>\n",
       "      <td>5.31</td>\n",
       "      <td>8.95</td>\n",
       "      <td>0.0</td>\n",
       "      <td>0.0</td>\n",
       "      <td>7.11</td>\n",
       "      <td>...</td>\n",
       "      <td>0.0</td>\n",
       "      <td>0.00</td>\n",
       "      <td>25.13</td>\n",
       "      <td>0.0</td>\n",
       "      <td>40.70</td>\n",
       "      <td>0.45</td>\n",
       "      <td>0.00</td>\n",
       "      <td>0.0</td>\n",
       "      <td>NaN</td>\n",
       "      <td>NaN</td>\n",
       "    </tr>\n",
       "    <tr>\n",
       "      <th>1516</th>\n",
       "      <td>IPISRC042</td>\n",
       "      <td>IPISRC042.T1</td>\n",
       "      <td>SRC</td>\n",
       "      <td>Myeloid</td>\n",
       "      <td>NaN</td>\n",
       "      <td>1.74</td>\n",
       "      <td>4.35</td>\n",
       "      <td>0.0</td>\n",
       "      <td>0.0</td>\n",
       "      <td>2.91</td>\n",
       "      <td>...</td>\n",
       "      <td>0.0</td>\n",
       "      <td>0.00</td>\n",
       "      <td>0.42</td>\n",
       "      <td>0.0</td>\n",
       "      <td>47.76</td>\n",
       "      <td>0.00</td>\n",
       "      <td>0.00</td>\n",
       "      <td>0.0</td>\n",
       "      <td>NaN</td>\n",
       "      <td>NaN</td>\n",
       "    </tr>\n",
       "    <tr>\n",
       "      <th>1517</th>\n",
       "      <td>IPISRC042</td>\n",
       "      <td>IPISRC042.T1</td>\n",
       "      <td>SRC</td>\n",
       "      <td>Stroma</td>\n",
       "      <td>NaN</td>\n",
       "      <td>2.03</td>\n",
       "      <td>0.33</td>\n",
       "      <td>0.0</td>\n",
       "      <td>0.0</td>\n",
       "      <td>13.09</td>\n",
       "      <td>...</td>\n",
       "      <td>0.0</td>\n",
       "      <td>0.00</td>\n",
       "      <td>0.14</td>\n",
       "      <td>0.0</td>\n",
       "      <td>14.84</td>\n",
       "      <td>0.00</td>\n",
       "      <td>0.00</td>\n",
       "      <td>0.0</td>\n",
       "      <td>NaN</td>\n",
       "      <td>NaN</td>\n",
       "    </tr>\n",
       "    <tr>\n",
       "      <th>1518</th>\n",
       "      <td>IPISRC042</td>\n",
       "      <td>IPISRC042.T1</td>\n",
       "      <td>SRC</td>\n",
       "      <td>T_cell</td>\n",
       "      <td>NaN</td>\n",
       "      <td>8.99</td>\n",
       "      <td>15.92</td>\n",
       "      <td>0.0</td>\n",
       "      <td>0.0</td>\n",
       "      <td>20.85</td>\n",
       "      <td>...</td>\n",
       "      <td>0.0</td>\n",
       "      <td>0.13</td>\n",
       "      <td>0.34</td>\n",
       "      <td>0.0</td>\n",
       "      <td>78.28</td>\n",
       "      <td>0.00</td>\n",
       "      <td>0.07</td>\n",
       "      <td>0.0</td>\n",
       "      <td>NaN</td>\n",
       "      <td>NaN</td>\n",
       "    </tr>\n",
       "    <tr>\n",
       "      <th>1519</th>\n",
       "      <td>IPISRC042</td>\n",
       "      <td>IPISRC042.T1</td>\n",
       "      <td>SRC</td>\n",
       "      <td>Treg</td>\n",
       "      <td>NaN</td>\n",
       "      <td>2.61</td>\n",
       "      <td>0.15</td>\n",
       "      <td>0.0</td>\n",
       "      <td>0.0</td>\n",
       "      <td>8.95</td>\n",
       "      <td>...</td>\n",
       "      <td>0.0</td>\n",
       "      <td>0.00</td>\n",
       "      <td>0.00</td>\n",
       "      <td>0.0</td>\n",
       "      <td>51.61</td>\n",
       "      <td>0.00</td>\n",
       "      <td>0.00</td>\n",
       "      <td>0.0</td>\n",
       "      <td>NaN</td>\n",
       "      <td>NaN</td>\n",
       "    </tr>\n",
       "  </tbody>\n",
       "</table>\n",
       "<p>1520 rows × 58058 columns</p>\n",
       "</div>"
      ],
      "text/plain": [
       "        Patient   sample_name Indication Compartment Archetype  ZBTB5  \\\n",
       "0     IPIADR001  IPIADR001.T1        ADR     Myeloid       NaN   3.44   \n",
       "1     IPIADR001  IPIADR001.T1        ADR      Stroma       NaN   7.32   \n",
       "2     IPIADR001  IPIADR001.T1        ADR      T_cell       NaN   7.29   \n",
       "3     IPIADR001  IPIADR001.T1        ADR       Tumor       NaN  33.77   \n",
       "4     IPIADR002  IPIADR002.T1        ADR      Stroma       NaN   2.37   \n",
       "...         ...           ...        ...         ...       ...    ...   \n",
       "1515  IPISRC040  IPISRC040.T1        SRC        Treg       NaN   5.31   \n",
       "1516  IPISRC042  IPISRC042.T1        SRC     Myeloid       NaN   1.74   \n",
       "1517  IPISRC042  IPISRC042.T1        SRC      Stroma       NaN   2.03   \n",
       "1518  IPISRC042  IPISRC042.T1        SRC      T_cell       NaN   8.99   \n",
       "1519  IPISRC042  IPISRC042.T1        SRC        Treg       NaN   2.61   \n",
       "\n",
       "      NPM1P26  NCOR1P3  PRKG2.AS1  MRPS33  ...  X.4955  ENSG00000196661  \\\n",
       "0       17.15      0.0        0.0   22.53  ...     0.0             0.00   \n",
       "1       23.63      0.0        0.0   21.62  ...     0.0             0.00   \n",
       "2       28.37      0.0        0.0   23.55  ...     0.0             0.00   \n",
       "3        8.88      0.0        0.0   47.27  ...     0.0             0.00   \n",
       "4        1.64      0.0        0.0    5.26  ...     0.0             0.00   \n",
       "...       ...      ...        ...     ...  ...     ...              ...   \n",
       "1515     8.95      0.0        0.0    7.11  ...     0.0             0.00   \n",
       "1516     4.35      0.0        0.0    2.91  ...     0.0             0.00   \n",
       "1517     0.33      0.0        0.0   13.09  ...     0.0             0.00   \n",
       "1518    15.92      0.0        0.0   20.85  ...     0.0             0.13   \n",
       "1519     0.15      0.0        0.0    8.95  ...     0.0             0.00   \n",
       "\n",
       "      X.13676  SERPINA15P  CDC42SE1  C8orf34  CHAD  ZFPM1.AS1  X_umap1  \\\n",
       "0        0.82         0.0     97.07     0.00  0.25        0.0      NaN   \n",
       "1        2.77         0.0     43.40     0.00  0.70        0.0      NaN   \n",
       "2        0.73         0.0    139.04     0.00  0.25        0.0      NaN   \n",
       "3        0.03         0.0     28.49     0.06  0.34        0.0      NaN   \n",
       "4        3.24         0.0     39.67     0.00  0.00        0.0      NaN   \n",
       "...       ...         ...       ...      ...   ...        ...      ...   \n",
       "1515    25.13         0.0     40.70     0.45  0.00        0.0      NaN   \n",
       "1516     0.42         0.0     47.76     0.00  0.00        0.0      NaN   \n",
       "1517     0.14         0.0     14.84     0.00  0.00        0.0      NaN   \n",
       "1518     0.34         0.0     78.28     0.00  0.07        0.0      NaN   \n",
       "1519     0.00         0.0     51.61     0.00  0.00        0.0      NaN   \n",
       "\n",
       "      X_umap2  \n",
       "0         NaN  \n",
       "1         NaN  \n",
       "2         NaN  \n",
       "3         NaN  \n",
       "4         NaN  \n",
       "...       ...  \n",
       "1515      NaN  \n",
       "1516      NaN  \n",
       "1517      NaN  \n",
       "1518      NaN  \n",
       "1519      NaN  \n",
       "\n",
       "[1520 rows x 58058 columns]"
      ]
     },
     "execution_count": 5,
     "metadata": {},
     "output_type": "execute_result"
    }
   ],
   "source": [
    "# Read in cleaned version of DF for testing\n",
    "master_df = pd.read_pickle(\"./data/clean/cleaned_df_ALL.pi\")\n",
    "master_df"
   ]
  },
  {
   "cell_type": "code",
   "execution_count": 40,
   "id": "ebb20e0a-7eca-4e1b-a505-4d8d26d4ab15",
   "metadata": {},
   "outputs": [],
   "source": [
    "non_genes = [\"Patient\", \"sample_name\", \"Indication\", \"Compartment\", \"Archetype\", \"X_umap1\", \"X_umap2\"]"
   ]
  },
  {
   "cell_type": "code",
   "execution_count": 46,
   "id": "61f34c79-04bc-4c07-abb9-32ecea11c6fc",
   "metadata": {},
   "outputs": [
    {
     "data": {
      "text/plain": [
       "58051"
      ]
     },
     "execution_count": 46,
     "metadata": {},
     "output_type": "execute_result"
    }
   ],
   "source": [
    "len(list(set(master_df.columns) - set(non_genes)))"
   ]
  },
  {
   "cell_type": "markdown",
   "id": "01579617-9b7c-4d1a-bada-880bce34cf87",
   "metadata": {
    "jp-MarkdownHeadingCollapsed": true
   },
   "source": [
    "# Create Cleaned Aggregate DF"
   ]
  },
  {
   "cell_type": "code",
   "execution_count": null,
   "id": "a03e1a5e-9f71-40c3-8706-ced4b8731429",
   "metadata": {},
   "outputs": [],
   "source": [
    "#data_path = \"./data/230811_Combined_TPM_clean_Tumor_filtered_ALL_T1_T2_INDIVIDUAL_PATIENTS.tsv\"\n",
    "#data_path = \"./data/Combined_ALL.tsv\"\n",
    "data_path = \"./data/raw/Combined_ALL.tsv\"\n",
    "umap_path = \"./data/raw/Pancan_10f_UMAP_COORD.csv\""
   ]
  },
  {
   "cell_type": "code",
   "execution_count": null,
   "id": "bbf9ee3b-ed8b-42de-9848-124842547229",
   "metadata": {},
   "outputs": [],
   "source": [
    "umap_df = pd.read_csv(umap_path, sep = \",\")\n",
    "umap_df = umap_df.set_index(\"Sample\")\n",
    "umap_df = umap_df.rename_axis(\"sample_name\")\n",
    "data_df = pd.read_csv(data_path, sep = \"\\t\")"
   ]
  },
  {
   "cell_type": "code",
   "execution_count": null,
   "id": "a623bb02-3349-4025-b886-8a5150d1e9a8",
   "metadata": {},
   "outputs": [],
   "source": [
    "new_cols = [\"sample_name\", \"Compartment\", \"Patient\", \"Indication\", \"Archetype\"]\n",
    "rest_of_cols = list(set(data_df.columns) - set(new_cols))\n",
    "sorted_df = data_df[new_cols + rest_of_cols]\n",
    "\n",
    "multiind = sorted_df.set_index([\"Patient\",\"sample_name\",\"Indication\",\"Compartment\",\"Archetype\"]).sort_index()\n",
    "merged_df = pd.merge(multiind,umap_df,left_index=True,right_index=True,how=\"outer\")\n",
    "\n",
    "tidy_df = merged_df.reset_index()\n",
    "\n",
    "#merged_df.to_pickle(\"master_df.pi\")"
   ]
  },
  {
   "cell_type": "markdown",
   "id": "74a16740-59ec-498e-9326-bc2a6c509d32",
   "metadata": {},
   "source": [
    "# Plotting Tests"
   ]
  },
  {
   "cell_type": "markdown",
   "id": "aa020799-7dc0-4965-bd96-69ee01bd5e80",
   "metadata": {},
   "source": [
    "## UMAP Example"
   ]
  },
  {
   "cell_type": "code",
   "execution_count": 23,
   "id": "57dd134c-bdf2-43be-a00d-e7c082ff0132",
   "metadata": {},
   "outputs": [
    {
     "data": {
      "text/plain": [
       "0        1.56\n",
       "1       25.53\n",
       "2        2.65\n",
       "3       17.65\n",
       "4       40.78\n",
       "        ...  \n",
       "1515    24.29\n",
       "1516     1.05\n",
       "1517     0.25\n",
       "1518     0.67\n",
       "1519     0.50\n",
       "Name: NCAM1, Length: 1520, dtype: float64"
      ]
     },
     "execution_count": 23,
     "metadata": {},
     "output_type": "execute_result"
    }
   ],
   "source": [
    "master_df[\"NCAM1\"]"
   ]
  },
  {
   "cell_type": "code",
   "execution_count": 81,
   "id": "b9143548-dbf6-4c95-8f38-153d87406bf7",
   "metadata": {},
   "outputs": [
    {
     "data": {
      "text/plain": [
       "221"
      ]
     },
     "execution_count": 81,
     "metadata": {},
     "output_type": "execute_result"
    }
   ],
   "source": [
    "sum(df == 0)"
   ]
  },
  {
   "cell_type": "code",
   "execution_count": 78,
   "id": "d4e50c9f-d04c-4e1a-82dc-756b32423a39",
   "metadata": {},
   "outputs": [],
   "source": [
    "df= master_df[\"NCAM1\"]\n",
    "#normalized_df=(ncam-ncam.min())/(ncam.max()-ncam.min()) # Min/Max Normalization\n",
    "normalized_df=(df-df.mean())/df.std() # Mean Normalization"
   ]
  },
  {
   "cell_type": "code",
   "execution_count": 102,
   "id": "b0253c17-c195-42ae-a6de-5b12cdebeac8",
   "metadata": {},
   "outputs": [
    {
     "data": {
      "text/plain": [
       "221"
      ]
     },
     "execution_count": 102,
     "metadata": {},
     "output_type": "execute_result"
    }
   ],
   "source": [
    "sum(df == 0 )"
   ]
  },
  {
   "cell_type": "code",
   "execution_count": 111,
   "id": "58bec942-5f86-4a95-b485-960ce7dffaa1",
   "metadata": {},
   "outputs": [],
   "source": [
    "test = np.where(df != 0, np.log2(df),0)"
   ]
  },
  {
   "cell_type": "code",
   "execution_count": null,
   "id": "18a8bbf9-69d0-416f-aa29-c806e5b17fa8",
   "metadata": {},
   "outputs": [],
   "source": []
  },
  {
   "cell_type": "code",
   "execution_count": 112,
   "id": "79020632-84e2-46fd-9f2a-d179d01d9368",
   "metadata": {},
   "outputs": [
    {
     "data": {
      "text/html": [
       "<iframe\n",
       "    scrolling=\"no\"\n",
       "    width=\"520px\"\n",
       "    height=\"420\"\n",
       "    src=\"iframe_figures/figure_112.html\"\n",
       "    frameborder=\"0\"\n",
       "    allowfullscreen\n",
       "></iframe>\n"
      ]
     },
     "metadata": {},
     "output_type": "display_data"
    }
   ],
   "source": [
    "fig = master_df.plot.scatter(x=\"X_umap1\", y = \"X_umap2\", color = test,)\n",
    "\n",
    "fig.update_layout(template='simple_white')\n",
    "fig.update_layout(\n",
    "    autosize=False,\n",
    "    width=500,\n",
    "    height=400,\n",
    ")"
   ]
  },
  {
   "cell_type": "code",
   "execution_count": 13,
   "id": "9db46e61-3041-48d1-9e6f-a0b7f7e8fc39",
   "metadata": {},
   "outputs": [
    {
     "data": {
      "text/plain": [
       "<Signature (data_frame=None, x=None, y=None, color=None, symbol=None, size=None, hover_name=None, hover_data=None, custom_data=None, text=None, facet_row=None, facet_col=None, facet_col_wrap=0, facet_row_spacing=None, facet_col_spacing=None, error_x=None, error_x_minus=None, error_y=None, error_y_minus=None, animation_frame=None, animation_group=None, category_orders=None, labels=None, orientation=None, color_discrete_sequence=None, color_discrete_map=None, color_continuous_scale=None, range_color=None, color_continuous_midpoint=None, symbol_sequence=None, symbol_map=None, opacity=None, size_max=None, marginal_x=None, marginal_y=None, trendline=None, trendline_options=None, trendline_color_override=None, trendline_scope='trace', log_x=False, log_y=False, range_x=None, range_y=None, render_mode='auto', title=None, template=None, width=None, height=None) -> plotly.graph_objs._figure.Figure>"
      ]
     },
     "execution_count": 13,
     "metadata": {},
     "output_type": "execute_result"
    }
   ],
   "source": [
    "import inspect\n",
    "inspect.signature(px.scatter)"
   ]
  },
  {
   "cell_type": "code",
   "execution_count": 4,
   "id": "137b8ead-70c9-4e7d-ad5a-0d0a4e28d166",
   "metadata": {},
   "outputs": [
    {
     "data": {
      "text/html": [
       "<iframe\n",
       "    scrolling=\"no\"\n",
       "    width=\"100%\"\n",
       "    height=\"545px\"\n",
       "    src=\"iframe_figures/figure_4.html\"\n",
       "    frameborder=\"0\"\n",
       "    allowfullscreen\n",
       "></iframe>\n"
      ]
     },
     "metadata": {},
     "output_type": "display_data"
    }
   ],
   "source": [
    "px.box(master_df, x=[\"Indication\",\"Compartment\"], y=\"LYVE1\")"
   ]
  },
  {
   "cell_type": "code",
   "execution_count": null,
   "id": "e3582547-be8d-41d5-802f-7d4320ce7b55",
   "metadata": {},
   "outputs": [],
   "source": [
    "fig = master_df[[\"LYVE1\"]].groupby(\"Indication\").plot.box()\n",
    "fig.show()"
   ]
  },
  {
   "cell_type": "markdown",
   "id": "7cef7765-5222-4329-97cd-96551909ecd3",
   "metadata": {
    "jp-MarkdownHeadingCollapsed": true
   },
   "source": [
    "# Iso-Seq Stuff"
   ]
  },
  {
   "cell_type": "code",
   "execution_count": null,
   "id": "b15d1c35-f385-461f-a270-5e2835ebec43",
   "metadata": {},
   "outputs": [],
   "source": [
    "iso_data = pd.read_csv(\"/Users/hwismer/Documents/A_01/bcM0001_seurat/bcM0001_collapsed.annotated.info.csv\",\n",
    "                      sep = \"\\t\")"
   ]
  },
  {
   "cell_type": "code",
   "execution_count": null,
   "id": "4243b347-f3ce-4f75-ac47-46a46b61dc00",
   "metadata": {},
   "outputs": [],
   "source": [
    "iso_data[\"category\"]"
   ]
  },
  {
   "cell_type": "code",
   "execution_count": null,
   "id": "42ac1b60-d92a-4684-9328-6eab17321036",
   "metadata": {
    "scrolled": true
   },
   "outputs": [],
   "source": [
    "iso_data[iso_data[\"gene\"].str.contains(\"NCAM1\")]"
   ]
  },
  {
   "cell_type": "code",
   "execution_count": null,
   "id": "9a22174a-7335-45a6-b7f9-19229a495cc4",
   "metadata": {},
   "outputs": [],
   "source": [
    "iso_data[iso_data[\"gene\"].str.contains(\"NCAM1\")].groupby(\"category\").size().plot(kind=\"pie\", y = \"category\",autopct='%.2f')"
   ]
  },
  {
   "cell_type": "code",
   "execution_count": null,
   "id": "0571856e-626f-4e5b-b91d-67df45ab6e42",
   "metadata": {},
   "outputs": [],
   "source": [
    "iso_data.groupby(\"category\").size().plot(kind=\"pie\", y = \"category\",autopct='%.2f')"
   ]
  },
  {
   "cell_type": "code",
   "execution_count": null,
   "id": "f112136d-4a93-420b-83f0-6ccca0de697d",
   "metadata": {},
   "outputs": [],
   "source": [
    "iso_data[iso_data[\"gene\"].str.contains(\"IGF2\")].groupby(\"category\").size().plot(kind=\"pie\", y = \"category\",autopct='%.2f')"
   ]
  },
  {
   "cell_type": "code",
   "execution_count": null,
   "id": "3893048a-e5b6-4ec4-a3ae-ca13ffe7b273",
   "metadata": {},
   "outputs": [],
   "source": []
  }
 ],
 "metadata": {
  "kernelspec": {
   "display_name": "Python [conda env:quipi]",
   "language": "python",
   "name": "conda-env-quipi-py"
  },
  "language_info": {
   "codemirror_mode": {
    "name": "ipython",
    "version": 3
   },
   "file_extension": ".py",
   "mimetype": "text/x-python",
   "name": "python",
   "nbconvert_exporter": "python",
   "pygments_lexer": "ipython3",
   "version": "3.12.4"
  }
 },
 "nbformat": 4,
 "nbformat_minor": 5
}
